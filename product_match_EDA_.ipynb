{
 "cells": [
  {
   "cell_type": "code",
   "execution_count": 212,
   "id": "a1e278e2",
   "metadata": {},
   "outputs": [],
   "source": [
    "import zipfile\n",
    "import glob\n",
    "import pandas as pd\n",
    "import numpy as np\n",
    "import re"
   ]
  },
  {
   "cell_type": "code",
   "execution_count": 213,
   "id": "91bcd258",
   "metadata": {},
   "outputs": [],
   "source": [
    "input_file='DS - Assignment Part 2 data set.zip'"
   ]
  },
  {
   "cell_type": "markdown",
   "id": "7301663a",
   "metadata": {},
   "source": [
    "# unzipping the zipped file"
   ]
  },
  {
   "cell_type": "code",
   "execution_count": 214,
   "id": "f7f20759",
   "metadata": {},
   "outputs": [],
   "source": [
    "with zipfile.ZipFile(input_file, 'r') as zip_ref:\n",
    "    zip_ref.extractall()"
   ]
  },
  {
   "cell_type": "code",
   "execution_count": 215,
   "id": "18c41497",
   "metadata": {},
   "outputs": [],
   "source": [
    "files=glob.glob('*.csv')"
   ]
  },
  {
   "cell_type": "markdown",
   "id": "069f9e8b",
   "metadata": {},
   "source": [
    "# Reading csv files into dataframes"
   ]
  },
  {
   "cell_type": "code",
   "execution_count": 216,
   "id": "1a8dd865",
   "metadata": {},
   "outputs": [
    {
     "data": {
      "text/plain": [
       "(20000, 15)"
      ]
     },
     "execution_count": 216,
     "metadata": {},
     "output_type": "execute_result"
    }
   ],
   "source": [
    "df_amazon=pd.read_csv(files[0], encoding_errors='ignore' )\n",
    "df_amazon.shape"
   ]
  },
  {
   "cell_type": "code",
   "execution_count": 217,
   "id": "e4404103",
   "metadata": {},
   "outputs": [
    {
     "data": {
      "text/plain": [
       "(20000, 15)"
      ]
     },
     "execution_count": 217,
     "metadata": {},
     "output_type": "execute_result"
    }
   ],
   "source": [
    "df_flipkart=pd.read_csv(files[1])\n",
    "df_flipkart.shape"
   ]
  },
  {
   "cell_type": "code",
   "execution_count": 218,
   "id": "d6f24b6a",
   "metadata": {},
   "outputs": [
    {
     "data": {
      "text/plain": [
       "uniq_id                       0\n",
       "crawl_timestamp               0\n",
       "product_url                   0\n",
       "product_name                  0\n",
       "product_category_tree         0\n",
       "pid                           0\n",
       "retail_price                  0\n",
       "discounted_price              0\n",
       "image                         3\n",
       "is_FK_Advantage_product       0\n",
       "description                   2\n",
       "product_rating                0\n",
       "overall_rating                0\n",
       "brand                      5864\n",
       "product_specifications       14\n",
       "dtype: int64"
      ]
     },
     "execution_count": 218,
     "metadata": {},
     "output_type": "execute_result"
    }
   ],
   "source": [
    "df_amazon.isna().sum()"
   ]
  },
  {
   "cell_type": "markdown",
   "id": "db890dbc",
   "metadata": {},
   "source": [
    "# Defining methods to clean dataframes"
   ]
  },
  {
   "cell_type": "code",
   "execution_count": 219,
   "id": "a9cde680",
   "metadata": {},
   "outputs": [],
   "source": [
    "# Detecting duplicate entries with same pid and deleting them except the one with lowest discounted_price\n",
    "def remove_duplicate_items(df):\n",
    "    duplicate_items=df.pid.value_counts()[df.pid.value_counts()>1]\n",
    "    for i in range(duplicate_items.shape[0]):\n",
    "        item=duplicate_items.index[i]\n",
    "        prices=df[df.pid==item]['discounted_price']\n",
    "        duplicate_entries=prices.index\n",
    "        duplicate_entries=duplicate_entries.delete(prices.argmin())\n",
    "        df=df.drop(index=duplicate_entries, axis=0)\n",
    "    return(df)"
   ]
  },
  {
   "cell_type": "code",
   "execution_count": 220,
   "id": "15bc978f",
   "metadata": {},
   "outputs": [],
   "source": [
    "# Checking for null values in description and filling it with product names if null\n",
    "def fill_description(product_name,description):\n",
    "    if description==description:\n",
    "        return description\n",
    "    else:\n",
    "        return product_name"
   ]
  },
  {
   "cell_type": "code",
   "execution_count": 221,
   "id": "2be4027b",
   "metadata": {},
   "outputs": [],
   "source": [
    "#Extracting category from product category tree\n",
    "def extract_category(s):\n",
    "    if re.search(\">>\",s)!=None: \n",
    "        n=re.search(\">>\",s).start()\n",
    "        category=s[2:n]\n",
    "        return category.strip()\n",
    "    else:\n",
    "        return (\"other\")"
   ]
  },
  {
   "cell_type": "code",
   "execution_count": null,
   "id": "cc7dec8b",
   "metadata": {},
   "outputs": [],
   "source": []
  },
  {
   "cell_type": "code",
   "execution_count": 222,
   "id": "056bd44e",
   "metadata": {},
   "outputs": [
    {
     "data": {
      "text/plain": [
       "'Accesories'"
      ]
     },
     "execution_count": 222,
     "metadata": {},
     "output_type": "execute_result"
    }
   ],
   "source": [
    "categorize('Eyewear')"
   ]
  },
  {
   "cell_type": "code",
   "execution_count": 223,
   "id": "18595d36",
   "metadata": {},
   "outputs": [],
   "source": [
    "#Processing cleaning dataframes\n",
    "def process_df(df):\n",
    "    removable_columns=['uniq_id', 'crawl_timestamp', 'product_url','image', 'is_FK_Advantage_product','product_rating',\n",
    "       'overall_rating','product_specifications']\n",
    "    df.drop(columns=removable_columns, inplace=True)\n",
    "    df=remove_duplicate_items(df)\n",
    "    df['category']=df['product_category_tree'].apply(extract_category)\n",
    "    df.drop(columns=['product_category_tree'], inplace=True)\n",
    "    df['description']=list(map(fill_description, df['product_name'],df['description']))\n",
    "    #df=modify_description(df)\n",
    "    return df\n",
    "    "
   ]
  },
  {
   "cell_type": "code",
   "execution_count": 224,
   "id": "be1163bb",
   "metadata": {},
   "outputs": [
    {
     "data": {
      "text/html": [
       "<div>\n",
       "<style scoped>\n",
       "    .dataframe tbody tr th:only-of-type {\n",
       "        vertical-align: middle;\n",
       "    }\n",
       "\n",
       "    .dataframe tbody tr th {\n",
       "        vertical-align: top;\n",
       "    }\n",
       "\n",
       "    .dataframe thead th {\n",
       "        text-align: right;\n",
       "    }\n",
       "</style>\n",
       "<table border=\"1\" class=\"dataframe\">\n",
       "  <thead>\n",
       "    <tr style=\"text-align: right;\">\n",
       "      <th></th>\n",
       "      <th>uniq_id</th>\n",
       "      <th>crawl_timestamp</th>\n",
       "      <th>product_url</th>\n",
       "      <th>product_name</th>\n",
       "      <th>product_category_tree</th>\n",
       "      <th>pid</th>\n",
       "      <th>retail_price</th>\n",
       "      <th>discounted_price</th>\n",
       "      <th>image</th>\n",
       "      <th>is_FK_Advantage_product</th>\n",
       "      <th>description</th>\n",
       "      <th>product_rating</th>\n",
       "      <th>overall_rating</th>\n",
       "      <th>brand</th>\n",
       "      <th>product_specifications</th>\n",
       "    </tr>\n",
       "  </thead>\n",
       "  <tbody>\n",
       "    <tr>\n",
       "      <th>0</th>\n",
       "      <td>c2d766ca982eca8304150849735ffef9</td>\n",
       "      <td>2016-03-25 22:59:23 +0000</td>\n",
       "      <td>http://www.flipkart.com/alisha-solid-women-s-c...</td>\n",
       "      <td>Alisha Solid Women's Cycling Shorts</td>\n",
       "      <td>[\"Clothing &gt;&gt; Women's Clothing &gt;&gt; Lingerie, Sl...</td>\n",
       "      <td>SRTEH2FF9KEDEFGF</td>\n",
       "      <td>982</td>\n",
       "      <td>438</td>\n",
       "      <td>[\"http://img5a.flixcart.com/image/short/u/4/a/...</td>\n",
       "      <td>False</td>\n",
       "      <td>Key Features of Alisha Solid Women's Cycling S...</td>\n",
       "      <td>No rating available</td>\n",
       "      <td>No rating available</td>\n",
       "      <td>Alisha</td>\n",
       "      <td>{\"product_specification\"=&gt;[{\"key\"=&gt;\"Number of ...</td>\n",
       "    </tr>\n",
       "    <tr>\n",
       "      <th>1</th>\n",
       "      <td>7f7036a6d550aaa89d34c77bd39a5e48</td>\n",
       "      <td>2016-03-25 22:59:23 +0000</td>\n",
       "      <td>http://www.flipkart.com/fabhomedecor-fabric-do...</td>\n",
       "      <td>FabHomeDecor Fabric Double Sofa Bed</td>\n",
       "      <td>[\"Furniture &gt;&gt; Living Room Furniture &gt;&gt; Sofa B...</td>\n",
       "      <td>SBEEH3QGU7MFYJFY</td>\n",
       "      <td>32143</td>\n",
       "      <td>29121</td>\n",
       "      <td>[\"http://img6a.flixcart.com/image/sofa-bed/j/f...</td>\n",
       "      <td>False</td>\n",
       "      <td>FabHomeDecor Fabric Double Sofa Bed (Finish Co...</td>\n",
       "      <td>No rating available</td>\n",
       "      <td>No rating available</td>\n",
       "      <td>FabHomeDecor</td>\n",
       "      <td>{\"product_specification\"=&gt;[{\"key\"=&gt;\"Installati...</td>\n",
       "    </tr>\n",
       "  </tbody>\n",
       "</table>\n",
       "</div>"
      ],
      "text/plain": [
       "                            uniq_id            crawl_timestamp  \\\n",
       "0  c2d766ca982eca8304150849735ffef9  2016-03-25 22:59:23 +0000   \n",
       "1  7f7036a6d550aaa89d34c77bd39a5e48  2016-03-25 22:59:23 +0000   \n",
       "\n",
       "                                         product_url  \\\n",
       "0  http://www.flipkart.com/alisha-solid-women-s-c...   \n",
       "1  http://www.flipkart.com/fabhomedecor-fabric-do...   \n",
       "\n",
       "                          product_name  \\\n",
       "0  Alisha Solid Women's Cycling Shorts   \n",
       "1  FabHomeDecor Fabric Double Sofa Bed   \n",
       "\n",
       "                               product_category_tree               pid  \\\n",
       "0  [\"Clothing >> Women's Clothing >> Lingerie, Sl...  SRTEH2FF9KEDEFGF   \n",
       "1  [\"Furniture >> Living Room Furniture >> Sofa B...  SBEEH3QGU7MFYJFY   \n",
       "\n",
       "   retail_price  discounted_price  \\\n",
       "0           982               438   \n",
       "1         32143             29121   \n",
       "\n",
       "                                               image  is_FK_Advantage_product  \\\n",
       "0  [\"http://img5a.flixcart.com/image/short/u/4/a/...                    False   \n",
       "1  [\"http://img6a.flixcart.com/image/sofa-bed/j/f...                    False   \n",
       "\n",
       "                                         description       product_rating  \\\n",
       "0  Key Features of Alisha Solid Women's Cycling S...  No rating available   \n",
       "1  FabHomeDecor Fabric Double Sofa Bed (Finish Co...  No rating available   \n",
       "\n",
       "        overall_rating         brand  \\\n",
       "0  No rating available        Alisha   \n",
       "1  No rating available  FabHomeDecor   \n",
       "\n",
       "                              product_specifications  \n",
       "0  {\"product_specification\"=>[{\"key\"=>\"Number of ...  \n",
       "1  {\"product_specification\"=>[{\"key\"=>\"Installati...  "
      ]
     },
     "execution_count": 224,
     "metadata": {},
     "output_type": "execute_result"
    }
   ],
   "source": [
    "df_amazon.head(2)"
   ]
  },
  {
   "cell_type": "code",
   "execution_count": 225,
   "id": "66296d83",
   "metadata": {},
   "outputs": [
    {
     "data": {
      "text/html": [
       "<div>\n",
       "<style scoped>\n",
       "    .dataframe tbody tr th:only-of-type {\n",
       "        vertical-align: middle;\n",
       "    }\n",
       "\n",
       "    .dataframe tbody tr th {\n",
       "        vertical-align: top;\n",
       "    }\n",
       "\n",
       "    .dataframe thead th {\n",
       "        text-align: right;\n",
       "    }\n",
       "</style>\n",
       "<table border=\"1\" class=\"dataframe\">\n",
       "  <thead>\n",
       "    <tr style=\"text-align: right;\">\n",
       "      <th></th>\n",
       "      <th>uniq_id</th>\n",
       "      <th>crawl_timestamp</th>\n",
       "      <th>product_url</th>\n",
       "      <th>product_name</th>\n",
       "      <th>product_category_tree</th>\n",
       "      <th>pid</th>\n",
       "      <th>retail_price</th>\n",
       "      <th>discounted_price</th>\n",
       "      <th>image</th>\n",
       "      <th>is_FK_Advantage_product</th>\n",
       "      <th>description</th>\n",
       "      <th>product_rating</th>\n",
       "      <th>overall_rating</th>\n",
       "      <th>brand</th>\n",
       "      <th>product_specifications</th>\n",
       "    </tr>\n",
       "  </thead>\n",
       "  <tbody>\n",
       "    <tr>\n",
       "      <th>0</th>\n",
       "      <td>c2d766ca982eca8304150849735ffef9</td>\n",
       "      <td>2016-03-25 22:59:23 +0000</td>\n",
       "      <td>http://www.flipkart.com/alisha-solid-women-s-c...</td>\n",
       "      <td>Alisha Solid Women's Cycling Shorts</td>\n",
       "      <td>[\"Clothing &gt;&gt; Women's Clothing &gt;&gt; Lingerie, Sl...</td>\n",
       "      <td>SRTEH2FF9KEDEFGF</td>\n",
       "      <td>999.0</td>\n",
       "      <td>379.0</td>\n",
       "      <td>[\"http://img5a.flixcart.com/image/short/u/4/a/...</td>\n",
       "      <td>False</td>\n",
       "      <td>Key Features of Alisha Solid Women's Cycling S...</td>\n",
       "      <td>No rating available</td>\n",
       "      <td>No rating available</td>\n",
       "      <td>Alisha</td>\n",
       "      <td>{\"product_specification\"=&gt;[{\"key\"=&gt;\"Number of ...</td>\n",
       "    </tr>\n",
       "    <tr>\n",
       "      <th>1</th>\n",
       "      <td>7f7036a6d550aaa89d34c77bd39a5e48</td>\n",
       "      <td>2016-03-25 22:59:23 +0000</td>\n",
       "      <td>http://www.flipkart.com/fabhomedecor-fabric-do...</td>\n",
       "      <td>FabHomeDecor Fabric Double Sofa Bed</td>\n",
       "      <td>[\"Furniture &gt;&gt; Living Room Furniture &gt;&gt; Sofa B...</td>\n",
       "      <td>SBEEH3QGU7MFYJFY</td>\n",
       "      <td>32157.0</td>\n",
       "      <td>22646.0</td>\n",
       "      <td>[\"http://img6a.flixcart.com/image/sofa-bed/j/f...</td>\n",
       "      <td>False</td>\n",
       "      <td>FabHomeDecor Fabric Double Sofa Bed (Finish Co...</td>\n",
       "      <td>No rating available</td>\n",
       "      <td>No rating available</td>\n",
       "      <td>FabHomeDecor</td>\n",
       "      <td>{\"product_specification\"=&gt;[{\"key\"=&gt;\"Installati...</td>\n",
       "    </tr>\n",
       "  </tbody>\n",
       "</table>\n",
       "</div>"
      ],
      "text/plain": [
       "                            uniq_id            crawl_timestamp  \\\n",
       "0  c2d766ca982eca8304150849735ffef9  2016-03-25 22:59:23 +0000   \n",
       "1  7f7036a6d550aaa89d34c77bd39a5e48  2016-03-25 22:59:23 +0000   \n",
       "\n",
       "                                         product_url  \\\n",
       "0  http://www.flipkart.com/alisha-solid-women-s-c...   \n",
       "1  http://www.flipkart.com/fabhomedecor-fabric-do...   \n",
       "\n",
       "                          product_name  \\\n",
       "0  Alisha Solid Women's Cycling Shorts   \n",
       "1  FabHomeDecor Fabric Double Sofa Bed   \n",
       "\n",
       "                               product_category_tree               pid  \\\n",
       "0  [\"Clothing >> Women's Clothing >> Lingerie, Sl...  SRTEH2FF9KEDEFGF   \n",
       "1  [\"Furniture >> Living Room Furniture >> Sofa B...  SBEEH3QGU7MFYJFY   \n",
       "\n",
       "   retail_price  discounted_price  \\\n",
       "0         999.0             379.0   \n",
       "1       32157.0           22646.0   \n",
       "\n",
       "                                               image  is_FK_Advantage_product  \\\n",
       "0  [\"http://img5a.flixcart.com/image/short/u/4/a/...                    False   \n",
       "1  [\"http://img6a.flixcart.com/image/sofa-bed/j/f...                    False   \n",
       "\n",
       "                                         description       product_rating  \\\n",
       "0  Key Features of Alisha Solid Women's Cycling S...  No rating available   \n",
       "1  FabHomeDecor Fabric Double Sofa Bed (Finish Co...  No rating available   \n",
       "\n",
       "        overall_rating         brand  \\\n",
       "0  No rating available        Alisha   \n",
       "1  No rating available  FabHomeDecor   \n",
       "\n",
       "                              product_specifications  \n",
       "0  {\"product_specification\"=>[{\"key\"=>\"Number of ...  \n",
       "1  {\"product_specification\"=>[{\"key\"=>\"Installati...  "
      ]
     },
     "execution_count": 225,
     "metadata": {},
     "output_type": "execute_result"
    }
   ],
   "source": [
    "df_flipkart.head(2)"
   ]
  },
  {
   "cell_type": "code",
   "execution_count": 226,
   "id": "55b1f324",
   "metadata": {},
   "outputs": [
    {
     "data": {
      "text/plain": [
       "uniq_id                       0\n",
       "crawl_timestamp               0\n",
       "product_url                   0\n",
       "product_name                  0\n",
       "product_category_tree         0\n",
       "pid                           0\n",
       "retail_price                  0\n",
       "discounted_price              0\n",
       "image                         3\n",
       "is_FK_Advantage_product       0\n",
       "description                   2\n",
       "product_rating                0\n",
       "overall_rating                0\n",
       "brand                      5864\n",
       "product_specifications       14\n",
       "dtype: int64"
      ]
     },
     "execution_count": 226,
     "metadata": {},
     "output_type": "execute_result"
    }
   ],
   "source": [
    "df_amazon.isna().sum()"
   ]
  },
  {
   "cell_type": "code",
   "execution_count": 227,
   "id": "38644dc3",
   "metadata": {
    "scrolled": true
   },
   "outputs": [
    {
     "data": {
      "text/plain": [
       "uniq_id                       0\n",
       "crawl_timestamp               0\n",
       "product_url                   0\n",
       "product_name                  0\n",
       "product_category_tree         0\n",
       "pid                           0\n",
       "retail_price                 78\n",
       "discounted_price             78\n",
       "image                         3\n",
       "is_FK_Advantage_product       0\n",
       "description                   2\n",
       "product_rating                0\n",
       "overall_rating                0\n",
       "brand                      5864\n",
       "product_specifications       14\n",
       "dtype: int64"
      ]
     },
     "execution_count": 227,
     "metadata": {},
     "output_type": "execute_result"
    }
   ],
   "source": [
    "df_flipkart.isna().sum()"
   ]
  },
  {
   "cell_type": "markdown",
   "id": "7270839e",
   "metadata": {},
   "source": [
    "# PID"
   ]
  },
  {
   "cell_type": "code",
   "execution_count": 228,
   "id": "da0cf508",
   "metadata": {},
   "outputs": [
    {
     "name": "stdout",
     "output_type": "stream",
     "text": [
      "There are 19998 matched items and 0 unmatched items in both datasets\n"
     ]
    }
   ],
   "source": [
    "matched_items=0\n",
    "unmatched_items=0\n",
    "flipkart_items=df_flipkart.pid.unique()\n",
    "amazon_items=df_amazon.pid.unique()\n",
    "for i in amazon_items:\n",
    "    if i in flipkart_items:\n",
    "        matched_items=matched_items+1\n",
    "    else:\n",
    "        unmatched_items=unmatched_items+1\n",
    "print(\"There are {} matched items and {} unmatched items in both datasets\".format(matched_items,unmatched_items))"
   ]
  },
  {
   "cell_type": "markdown",
   "id": "f3b024d1",
   "metadata": {},
   "source": [
    "# Every item is present in both datasets and the most easy way to connect them is by their pid"
   ]
  },
  {
   "cell_type": "markdown",
   "id": "4b94a6ae",
   "metadata": {},
   "source": [
    "# Product Specification"
   ]
  },
  {
   "cell_type": "code",
   "execution_count": 229,
   "id": "a8ee7837",
   "metadata": {},
   "outputs": [
    {
     "data": {
      "text/plain": [
       "'{\"product_specification\"=>[{\"key\"=>\"Number of Contents in Sales Package\", \"value\"=>\"Pack of 3\"}, {\"key\"=>\"Fabric\", \"value\"=>\"Cotton Lycra\"}, {\"key\"=>\"Type\", \"value\"=>\"Cycling Shorts\"}, {\"key\"=>\"Pattern\", \"value\"=>\"Solid\"}, {\"key\"=>\"Ideal For\", \"value\"=>\"Women\\'s\"}, {\"value\"=>\"Gentle Machine Wash in Lukewarm Water, Do Not Bleach\"}, {\"key\"=>\"Style Code\", \"value\"=>\"ALTHT_3P_21\"}, {\"value\"=>\"3 shorts\"}]}'"
      ]
     },
     "execution_count": 229,
     "metadata": {},
     "output_type": "execute_result"
    }
   ],
   "source": [
    "df_amazon.iloc[:1].product_specifications[0]"
   ]
  },
  {
   "cell_type": "markdown",
   "id": "c31afb33",
   "metadata": {},
   "source": [
    "# Description"
   ]
  },
  {
   "cell_type": "code",
   "execution_count": 230,
   "id": "285d76ba",
   "metadata": {},
   "outputs": [
    {
     "data": {
      "text/plain": [
       "'Key Features of Ladela Bellies Brand: LADELA Color : Black,Ladela Bellies Price: Rs. 950 Experience the best bellies from the house of Ladela. Providing the best material to keep your feet cozy and active for the whole day.,Specifications of Ladela Bellies General Occasion Casual Ideal For Women Shoe Details Heel Height 0 inch Outer Material PU Color Black'"
      ]
     },
     "execution_count": 230,
     "metadata": {},
     "output_type": "execute_result"
    }
   ],
   "source": [
    "m=10\n",
    "temp_pid=df_amazon.iloc[m:m+1].pid[m]\n",
    "df_amazon[df_amazon.pid==temp_pid].description[m]"
   ]
  },
  {
   "cell_type": "code",
   "execution_count": 231,
   "id": "80db55a8",
   "metadata": {},
   "outputs": [
    {
     "name": "stdout",
     "output_type": "stream",
     "text": [
      "FDT Women's Leggings Pants - Buy Parrot Green FDT Women's Leggings Pants For Only Rs. 699 Online in India. Shop Online For Apparels. Huge Collection of Branded Clothes Only at Flipkart.com \n",
      " FDT Women's Leggings - Buy Parrot Green FDT Women's Leggings For Only Rs. 699 Online in India. Shop Online For Apparels. Huge Collection of Branded Clothes Only at Flipkart.com\n",
      "Key Features of MASARA Solid Women's Straight Kurta Green Straight,MASARA Solid Women's Straight Kurta Price: Rs. 499 Floral patterns don’t have to be dainty. Go bold with brighter colors and a more defined floral print. Darker shades of this kurta allow your outfit to make a more intense impression, and with the variety of flower hues, it’s easy to select accessories that coordinate. Its knee-length would allow you to pair it up along jeans as well as Leggings Pants. Select a chunky necklace, pronounced ring or bold-colored emboidered jacket that picks up on tones found in the floral print.,Specifications of MASARA Solid Women's Straight Kurta General Details Pattern Solid Ideal For Women's Occasion Casual Kurta Details Sleeve 3/4 Sleeve Fabric Cotton Type Straight Neck Round Additional Details Style Code M004PCOTGREFLO \n",
      " Key Features of MASARA Solid Women's Straight Kurta Green Straight,MASARA Solid Women's Straight Kurta Price: Rs. 499 Floral patterns don’t have to be dainty. Go bold with brighter colors and a more defined floral print. Darker shades of this kurta allow your outfit to make a more intense impression, and with the variety of flower hues, it’s easy to select accessories that coordinate. Its knee-length would allow you to pair it up along jeans as well as leggings. Select a chunky necklace, pronounced ring or bold-colored emboidered jacket that picks up on tones found in the floral print.,Specifications of MASARA Solid Women's Straight Kurta General Details Pattern Solid Ideal For Women's Occasion Casual Kurta Details Sleeve 3/4 Sleeve Fabric Cotton Type Straight Neck Round Additional Details Style Code M004PCOTGREFLO\n",
      "Fantasy Ika Casual Short Sleeve Solid Women's Top\n",
      "                         Price: Rs. 449\n",
      "\t\t\t\t\n",
      "\t\t\tDouble your fashion flair wearing this top This top is designed as per the latest trends and fashioned using quality cotton. This beautiful creation will give you a trendy look when clubbed with matching Leggings Pants and sandals.\n",
      "Double your fashion flair wearing this top This top is designed as per the latest trends and fashioned using quality cotton. This beautiful creation will give you a trendy look when clubbed with matching Leggings Pants and sandals. \n",
      " Fantasy Ika Casual Short Sleeve Solid Women's Top\n",
      "                         Price: Rs. 449\n",
      "\t\t\t\t\n",
      "\t\t\tDouble your fashion flair wearing this top This top is designed as per the latest trends and fashioned using quality cotton. This beautiful creation will give you a trendy look when clubbed with matching leggings and sandals.\n",
      "Double your fashion flair wearing this top This top is designed as per the latest trends and fashioned using quality cotton. This beautiful creation will give you a trendy look when clubbed with matching leggings and sandals.\n",
      "SFDS Casual, Formal, Party Sleeveless Self Design Women's Top\n",
      "                         Price: Rs. 899\n",
      "\t\t\t\t\n",
      "\t\t\tDouble Your Fashion Flair As You Wear This Top From The House Of SFDS. Made Of Premium Quality Fabric, This Top Is Highly Comfortable And A Perfect Pick Of The Season. This Beautiful Creation Will Give You A Trendy Look When Clubbed With Matching Leggings Pants And Sandals.\n",
      "Double Your Fashion Flair As You Wear This Top From The House Of SFDS. Made Of Premium Quality Fabric, This Top Is Highly Comfortable And A Perfect Pick Of The Season. This Beautiful Creation Will Give You A Trendy Look When Clubbed With Matching Leggings Pants And Sandals. \n",
      " SFDS Casual, Formal, Party Sleeveless Self Design Women's Top\n",
      "                         Price: Rs. 899\n",
      "\t\t\t\t\n",
      "\t\t\tDouble Your Fashion Flair As You Wear This Top From The House Of SFDS. Made Of Premium Quality Fabric, This Top Is Highly Comfortable And A Perfect Pick Of The Season. This Beautiful Creation Will Give You A Trendy Look When Clubbed With Matching Leggings And Sandals.\n",
      "Double Your Fashion Flair As You Wear This Top From The House Of SFDS. Made Of Premium Quality Fabric, This Top Is Highly Comfortable And A Perfect Pick Of The Season. This Beautiful Creation Will Give You A Trendy Look When Clubbed With Matching Leggings And Sandals.\n",
      "SFDS Casual, Formal, Party Sleeveless Self Design Women's Top\n",
      "                         Price: Rs. 849\n",
      "\t\t\t\t\n",
      "\t\t\tDouble Your Fashion Flair As You Wear This Top From The House Of SFDS. Made Of Premium Quality Fabric, This Top Is Highly Comfortable And A Perfect Pick Of The Season. This Beautiful Creation Will Give You A Trendy Look When Clubbed With Matching Leggings Pants And Sandals.\n",
      "Double Your Fashion Flair As You Wear This Top From The House Of SFDS. Made Of Premium Quality Fabric, This Top Is Highly Comfortable And A Perfect Pick Of The Season. This Beautiful Creation Will Give You A Trendy Look When Clubbed With Matching Leggings Pants And Sandals. \n",
      " SFDS Casual, Formal, Party Sleeveless Self Design Women's Top\n",
      "                         Price: Rs. 849\n",
      "\t\t\t\t\n",
      "\t\t\tDouble Your Fashion Flair As You Wear This Top From The House Of SFDS. Made Of Premium Quality Fabric, This Top Is Highly Comfortable And A Perfect Pick Of The Season. This Beautiful Creation Will Give You A Trendy Look When Clubbed With Matching Leggings And Sandals.\n",
      "Double Your Fashion Flair As You Wear This Top From The House Of SFDS. Made Of Premium Quality Fabric, This Top Is Highly Comfortable And A Perfect Pick Of The Season. This Beautiful Creation Will Give You A Trendy Look When Clubbed With Matching Leggings And Sandals.\n",
      "nan \n",
      " nan\n",
      "nan \n",
      " nan\n"
     ]
    }
   ],
   "source": [
    "for m in range(df_amazon.shape[0]):\n",
    "    if df_amazon.iloc[m:m+1].description[m]!=df_flipkart.iloc[m:m+1].description[m]:\n",
    "        print(df_amazon.iloc[m:m+1].description[m],'\\n',df_flipkart.iloc[m:m+1].description[m])"
   ]
  },
  {
   "cell_type": "markdown",
   "id": "6c3e907a",
   "metadata": {},
   "source": [
    "# The descriptions of the products are same in both datasets the only difference we can find is whitespaces¶"
   ]
  },
  {
   "cell_type": "markdown",
   "id": "a3313e84",
   "metadata": {},
   "source": [
    "# Product_category_tree"
   ]
  },
  {
   "cell_type": "code",
   "execution_count": 232,
   "id": "c5ac56ef",
   "metadata": {},
   "outputs": [
    {
     "data": {
      "text/plain": [
       "'[\"Clothing >> Women\\'s Clothing >> Lingerie, Sleep & Swimwear >> Shorts >> Alisha Shorts >> Alisha Solid Women\\'s Cycling Shorts\"]'"
      ]
     },
     "execution_count": 232,
     "metadata": {},
     "output_type": "execute_result"
    }
   ],
   "source": [
    "df_amazon.iloc[:1].product_category_tree[0]"
   ]
  },
  {
   "cell_type": "code",
   "execution_count": 233,
   "id": "b388f7f8",
   "metadata": {},
   "outputs": [],
   "source": [
    "def extract_info(s):\n",
    "    i=0\n",
    "    while(True):\n",
    "        if re.search(\">>\",s)==None:\n",
    "            globals()['category'+str(i)]=s[2:-2]\n",
    "            print(\"Category\",i,globals()['category'+str(i)])\n",
    "            break\n",
    "        \n",
    "        n=re.search(\">>\",s).start()\n",
    "        globals()['category'+str(i)]=s[2:n]          \n",
    "        print(\"Category\",i,globals()['category'+str(i)])\n",
    "        s=s[n+1:]\n",
    "        i=i+1\n",
    "        "
   ]
  },
  {
   "cell_type": "code",
   "execution_count": 234,
   "id": "728e3d07",
   "metadata": {},
   "outputs": [
    {
     "name": "stdout",
     "output_type": "stream",
     "text": [
      "Category 0 Clothing \n",
      "Category 1 Women's Clothing \n",
      "Category 2 Western Wear \n",
      "Category 3 Shirts, Tops & Tunics \n",
      "Category 4 Tops \n",
      "Category 5 Shopaholic Tops\n"
     ]
    }
   ],
   "source": [
    "m=574\n",
    "extract_info(df_amazon.iloc[m:m+1].product_category_tree[m])"
   ]
  },
  {
   "cell_type": "code",
   "execution_count": 235,
   "id": "1ae0df7e",
   "metadata": {},
   "outputs": [],
   "source": [
    "df_amazon=process_df(df_amazon)\n",
    "df_flipkart=process_df(df_flipkart)"
   ]
  },
  {
   "cell_type": "code",
   "execution_count": 236,
   "id": "6f1a5733",
   "metadata": {
    "scrolled": true
   },
   "outputs": [
    {
     "data": {
      "text/plain": [
       "Clothing                             6197\n",
       "Jewellery                            3531\n",
       "Footwear                             1227\n",
       "Mobiles & Accessories                1099\n",
       "Automotive                           1012\n",
       "Home Decor & Festive Needs            929\n",
       "Beauty and Personal Care              710\n",
       "Home Furnishing                       700\n",
       "Kitchen & Dining                      647\n",
       "Computers                             577\n",
       "Watches                               530\n",
       "Baby Care                             483\n",
       "Tools & Hardware                      391\n",
       "Toys & School Supplies                330\n",
       "other                                 328\n",
       "Pens & Stationery                     313\n",
       "Bags, Wallets & Belts                 265\n",
       "Furniture                             180\n",
       "Sports & Fitness                      166\n",
       "Cameras & Accessories                  82\n",
       "Home Improvement                       81\n",
       "Health & Personal Care Appliances      43\n",
       "Gaming                                 35\n",
       "Sunglasses                             35\n",
       "Pet Supplies                           30\n",
       "Home & Kitchen                         24\n",
       "Home Entertainment                     19\n",
       "eBooks                                 15\n",
       "Eyewear                                10\n",
       "Household Supplies                      4\n",
       "Food & Nutrition                        2\n",
       "Wearable Smart Devices                  2\n",
       "Automation & Robotics                   1\n",
       "Name: category, dtype: int64"
      ]
     },
     "execution_count": 236,
     "metadata": {},
     "output_type": "execute_result"
    }
   ],
   "source": [
    "df_amazon.category.value_counts()"
   ]
  },
  {
   "cell_type": "code",
   "execution_count": 237,
   "id": "e96195d5",
   "metadata": {},
   "outputs": [],
   "source": [
    "#Grouping categories with less elements into similar types\n",
    "electronics=['Home Entertainment','Cameras & Accessories','Automation & Robotics']\n",
    "household=['Household Supplies','Home & Kitchen','Furniture','Home Furnishing','Kitchen & Dining','Home Improvement']\n",
    "sports_fitness=['Food & Nutrition','Health & Personal Care Appliances','Sports & Fitness',]\n",
    "accesories=['Eyewear','Sunglasses','Wearable Smart Devices','Watches','Bags, Wallets & Belts']\n",
    "personal_and_baby_care=['Baby Care','Beauty and Personal Care']\n",
    "other=['Pet Supplies','other']\n",
    "hardware=['Tools & Hardware']\n",
    "computers_and_gaming=['Gaming','Computers']\n",
    "stationery=['Toys & School Supplies','Pens & Stationery','eBooks']\n",
    "mobile_and_accesories=['Mobiles & Accessories']\n",
    "\n",
    "def categorize(x):\n",
    "    if x in electronics:\n",
    "        return 'Electronics'\n",
    "    elif x in household:\n",
    "        return 'Household'\n",
    "    elif x in sports_fitness:\n",
    "        return 'Sports_fitness'\n",
    "    elif x in accesories:\n",
    "        return 'Accesories'\n",
    "    elif x in other:\n",
    "        return 'Other'\n",
    "    elif x in hardware:\n",
    "        return 'Hardware'\n",
    "    elif x in computers_and_gaming:\n",
    "        return 'Computers_and_gaming'\n",
    "    elif x in personal_and_baby_care:\n",
    "        return 'Personal_and_baby_care'\n",
    "    elif x in stationery:\n",
    "        return 'Stationery'\n",
    "    elif x in mobile_and_accesories:\n",
    "        return 'Mobile_and_accesories'\n",
    "    else:\n",
    "        return x"
   ]
  },
  {
   "cell_type": "markdown",
   "id": "8326ba9d",
   "metadata": {},
   "source": [
    "# We need to minimise our categories (specially the ones that have very few elements in it)"
   ]
  },
  {
   "cell_type": "code",
   "execution_count": 238,
   "id": "68891fac",
   "metadata": {},
   "outputs": [],
   "source": [
    "df_amazon['category']=df_amazon['category'].apply(categorize)\n",
    "df_flipkart['category']=df_flipkart['category'].apply(categorize)"
   ]
  },
  {
   "cell_type": "code",
   "execution_count": 239,
   "id": "78eeb9f9",
   "metadata": {},
   "outputs": [
    {
     "data": {
      "text/plain": [
       "Clothing                      6197\n",
       "Jewellery                     3531\n",
       "Household                     1636\n",
       "Footwear                      1227\n",
       "Personal_and_baby_care        1193\n",
       "Mobile_and_accesories         1099\n",
       "Automotive                    1012\n",
       "Home Decor & Festive Needs     929\n",
       "Accesories                     842\n",
       "Stationery                     658\n",
       "Computers_and_gaming           612\n",
       "Hardware                       391\n",
       "Other                          358\n",
       "Sports_fitness                 211\n",
       "Electronics                    102\n",
       "Name: category, dtype: int64"
      ]
     },
     "execution_count": 239,
     "metadata": {},
     "output_type": "execute_result"
    }
   ],
   "source": [
    "df_amazon.category.value_counts()"
   ]
  },
  {
   "cell_type": "code",
   "execution_count": 240,
   "id": "88859dd4",
   "metadata": {},
   "outputs": [
    {
     "data": {
      "text/html": [
       "<div>\n",
       "<style scoped>\n",
       "    .dataframe tbody tr th:only-of-type {\n",
       "        vertical-align: middle;\n",
       "    }\n",
       "\n",
       "    .dataframe tbody tr th {\n",
       "        vertical-align: top;\n",
       "    }\n",
       "\n",
       "    .dataframe thead th {\n",
       "        text-align: right;\n",
       "    }\n",
       "</style>\n",
       "<table border=\"1\" class=\"dataframe\">\n",
       "  <thead>\n",
       "    <tr style=\"text-align: right;\">\n",
       "      <th></th>\n",
       "      <th>product_name</th>\n",
       "      <th>pid</th>\n",
       "      <th>retail_price</th>\n",
       "      <th>discounted_price</th>\n",
       "      <th>description</th>\n",
       "      <th>brand</th>\n",
       "      <th>category</th>\n",
       "    </tr>\n",
       "  </thead>\n",
       "  <tbody>\n",
       "    <tr>\n",
       "      <th>0</th>\n",
       "      <td>Alisha Solid Women's Cycling Shorts</td>\n",
       "      <td>SRTEH2FF9KEDEFGF</td>\n",
       "      <td>982</td>\n",
       "      <td>438</td>\n",
       "      <td>Key Features of Alisha Solid Women's Cycling S...</td>\n",
       "      <td>Alisha</td>\n",
       "      <td>Clothing</td>\n",
       "    </tr>\n",
       "    <tr>\n",
       "      <th>1</th>\n",
       "      <td>FabHomeDecor Fabric Double Sofa Bed</td>\n",
       "      <td>SBEEH3QGU7MFYJFY</td>\n",
       "      <td>32143</td>\n",
       "      <td>29121</td>\n",
       "      <td>FabHomeDecor Fabric Double Sofa Bed (Finish Co...</td>\n",
       "      <td>FabHomeDecor</td>\n",
       "      <td>Household</td>\n",
       "    </tr>\n",
       "  </tbody>\n",
       "</table>\n",
       "</div>"
      ],
      "text/plain": [
       "                          product_name               pid  retail_price  \\\n",
       "0  Alisha Solid Women's Cycling Shorts  SRTEH2FF9KEDEFGF           982   \n",
       "1  FabHomeDecor Fabric Double Sofa Bed  SBEEH3QGU7MFYJFY         32143   \n",
       "\n",
       "   discounted_price                                        description  \\\n",
       "0               438  Key Features of Alisha Solid Women's Cycling S...   \n",
       "1             29121  FabHomeDecor Fabric Double Sofa Bed (Finish Co...   \n",
       "\n",
       "          brand   category  \n",
       "0        Alisha   Clothing  \n",
       "1  FabHomeDecor  Household  "
      ]
     },
     "execution_count": 240,
     "metadata": {},
     "output_type": "execute_result"
    }
   ],
   "source": [
    "df_amazon.head(2)"
   ]
  },
  {
   "cell_type": "code",
   "execution_count": 241,
   "id": "5c61b0fd",
   "metadata": {},
   "outputs": [
    {
     "data": {
      "text/html": [
       "<div>\n",
       "<style scoped>\n",
       "    .dataframe tbody tr th:only-of-type {\n",
       "        vertical-align: middle;\n",
       "    }\n",
       "\n",
       "    .dataframe tbody tr th {\n",
       "        vertical-align: top;\n",
       "    }\n",
       "\n",
       "    .dataframe thead th {\n",
       "        text-align: right;\n",
       "    }\n",
       "</style>\n",
       "<table border=\"1\" class=\"dataframe\">\n",
       "  <thead>\n",
       "    <tr style=\"text-align: right;\">\n",
       "      <th></th>\n",
       "      <th>product_name</th>\n",
       "      <th>pid</th>\n",
       "      <th>retail_price</th>\n",
       "      <th>discounted_price</th>\n",
       "      <th>description</th>\n",
       "      <th>brand</th>\n",
       "      <th>category</th>\n",
       "    </tr>\n",
       "  </thead>\n",
       "  <tbody>\n",
       "    <tr>\n",
       "      <th>0</th>\n",
       "      <td>Alisha Solid Women's Cycling Shorts</td>\n",
       "      <td>SRTEH2FF9KEDEFGF</td>\n",
       "      <td>999.0</td>\n",
       "      <td>379.0</td>\n",
       "      <td>Key Features of Alisha Solid Women's Cycling S...</td>\n",
       "      <td>Alisha</td>\n",
       "      <td>Clothing</td>\n",
       "    </tr>\n",
       "    <tr>\n",
       "      <th>1</th>\n",
       "      <td>FabHomeDecor Fabric Double Sofa Bed</td>\n",
       "      <td>SBEEH3QGU7MFYJFY</td>\n",
       "      <td>32157.0</td>\n",
       "      <td>22646.0</td>\n",
       "      <td>FabHomeDecor Fabric Double Sofa Bed (Finish Co...</td>\n",
       "      <td>FabHomeDecor</td>\n",
       "      <td>Household</td>\n",
       "    </tr>\n",
       "  </tbody>\n",
       "</table>\n",
       "</div>"
      ],
      "text/plain": [
       "                          product_name               pid  retail_price  \\\n",
       "0  Alisha Solid Women's Cycling Shorts  SRTEH2FF9KEDEFGF         999.0   \n",
       "1  FabHomeDecor Fabric Double Sofa Bed  SBEEH3QGU7MFYJFY       32157.0   \n",
       "\n",
       "   discounted_price                                        description  \\\n",
       "0             379.0  Key Features of Alisha Solid Women's Cycling S...   \n",
       "1           22646.0  FabHomeDecor Fabric Double Sofa Bed (Finish Co...   \n",
       "\n",
       "          brand   category  \n",
       "0        Alisha   Clothing  \n",
       "1  FabHomeDecor  Household  "
      ]
     },
     "execution_count": 241,
     "metadata": {},
     "output_type": "execute_result"
    }
   ],
   "source": [
    "df_flipkart.head(2)"
   ]
  },
  {
   "cell_type": "code",
   "execution_count": 242,
   "id": "e7923932",
   "metadata": {},
   "outputs": [],
   "source": [
    "final_df=pd.merge(df_amazon,df_flipkart[['pid','product_name','retail_price','discounted_price','brand']], on='pid', suffixes=(' in Amazon',' in Flipkart'))"
   ]
  },
  {
   "cell_type": "code",
   "execution_count": 243,
   "id": "531ecb91",
   "metadata": {},
   "outputs": [
    {
     "data": {
      "text/html": [
       "<div>\n",
       "<style scoped>\n",
       "    .dataframe tbody tr th:only-of-type {\n",
       "        vertical-align: middle;\n",
       "    }\n",
       "\n",
       "    .dataframe tbody tr th {\n",
       "        vertical-align: top;\n",
       "    }\n",
       "\n",
       "    .dataframe thead th {\n",
       "        text-align: right;\n",
       "    }\n",
       "</style>\n",
       "<table border=\"1\" class=\"dataframe\">\n",
       "  <thead>\n",
       "    <tr style=\"text-align: right;\">\n",
       "      <th></th>\n",
       "      <th>product_name in Amazon</th>\n",
       "      <th>pid</th>\n",
       "      <th>retail_price in Amazon</th>\n",
       "      <th>discounted_price in Amazon</th>\n",
       "      <th>description</th>\n",
       "      <th>brand in Amazon</th>\n",
       "      <th>category</th>\n",
       "      <th>product_name in Flipkart</th>\n",
       "      <th>retail_price in Flipkart</th>\n",
       "      <th>discounted_price in Flipkart</th>\n",
       "      <th>brand in Flipkart</th>\n",
       "    </tr>\n",
       "  </thead>\n",
       "  <tbody>\n",
       "    <tr>\n",
       "      <th>0</th>\n",
       "      <td>Alisha Solid Women's Cycling Shorts</td>\n",
       "      <td>SRTEH2FF9KEDEFGF</td>\n",
       "      <td>982</td>\n",
       "      <td>438</td>\n",
       "      <td>Key Features of Alisha Solid Women's Cycling S...</td>\n",
       "      <td>Alisha</td>\n",
       "      <td>Clothing</td>\n",
       "      <td>Alisha Solid Women's Cycling Shorts</td>\n",
       "      <td>999.0</td>\n",
       "      <td>379.0</td>\n",
       "      <td>Alisha</td>\n",
       "    </tr>\n",
       "    <tr>\n",
       "      <th>1</th>\n",
       "      <td>FabHomeDecor Fabric Double Sofa Bed</td>\n",
       "      <td>SBEEH3QGU7MFYJFY</td>\n",
       "      <td>32143</td>\n",
       "      <td>29121</td>\n",
       "      <td>FabHomeDecor Fabric Double Sofa Bed (Finish Co...</td>\n",
       "      <td>FabHomeDecor</td>\n",
       "      <td>Household</td>\n",
       "      <td>FabHomeDecor Fabric Double Sofa Bed</td>\n",
       "      <td>32157.0</td>\n",
       "      <td>22646.0</td>\n",
       "      <td>FabHomeDecor</td>\n",
       "    </tr>\n",
       "    <tr>\n",
       "      <th>2</th>\n",
       "      <td>AW Bellies</td>\n",
       "      <td>SHOEH4GRSUBJGZXE</td>\n",
       "      <td>991</td>\n",
       "      <td>551</td>\n",
       "      <td>Key Features of AW Bellies Sandals Wedges Heel...</td>\n",
       "      <td>AW</td>\n",
       "      <td>Footwear</td>\n",
       "      <td>AW Bellies</td>\n",
       "      <td>999.0</td>\n",
       "      <td>499.0</td>\n",
       "      <td>AW</td>\n",
       "    </tr>\n",
       "    <tr>\n",
       "      <th>3</th>\n",
       "      <td>Alisha Solid Women's Cycling Shorts</td>\n",
       "      <td>SRTEH2F6HUZMQ6SJ</td>\n",
       "      <td>694</td>\n",
       "      <td>325</td>\n",
       "      <td>Key Features of Alisha Solid Women's Cycling S...</td>\n",
       "      <td>Alisha</td>\n",
       "      <td>Clothing</td>\n",
       "      <td>Alisha Solid Women's Cycling Shorts</td>\n",
       "      <td>699.0</td>\n",
       "      <td>267.0</td>\n",
       "      <td>Alisha</td>\n",
       "    </tr>\n",
       "    <tr>\n",
       "      <th>4</th>\n",
       "      <td>Sicons All Purpose Arnica Dog Shampoo</td>\n",
       "      <td>PSOEH3ZYDMSYARJ5</td>\n",
       "      <td>208</td>\n",
       "      <td>258</td>\n",
       "      <td>Specifications of Sicons All Purpose Arnica Do...</td>\n",
       "      <td>Sicons</td>\n",
       "      <td>Other</td>\n",
       "      <td>Sicons All Purpose Arnica Dog Shampoo</td>\n",
       "      <td>220.0</td>\n",
       "      <td>210.0</td>\n",
       "      <td>Sicons</td>\n",
       "    </tr>\n",
       "    <tr>\n",
       "      <th>...</th>\n",
       "      <td>...</td>\n",
       "      <td>...</td>\n",
       "      <td>...</td>\n",
       "      <td>...</td>\n",
       "      <td>...</td>\n",
       "      <td>...</td>\n",
       "      <td>...</td>\n",
       "      <td>...</td>\n",
       "      <td>...</td>\n",
       "      <td>...</td>\n",
       "      <td>...</td>\n",
       "    </tr>\n",
       "    <tr>\n",
       "      <th>19993</th>\n",
       "      <td>WALLDESIGN SMALL VINYL STICKER</td>\n",
       "      <td>STIE7KFJAKSTDY9G</td>\n",
       "      <td>1498</td>\n",
       "      <td>876</td>\n",
       "      <td>Buy WallDesign Small Vinyl Sticker for Rs.730 ...</td>\n",
       "      <td>WallDesign</td>\n",
       "      <td>Personal_and_baby_care</td>\n",
       "      <td>WallDesign Small Vinyl Sticker</td>\n",
       "      <td>1500.0</td>\n",
       "      <td>730.0</td>\n",
       "      <td>WallDesign</td>\n",
       "    </tr>\n",
       "    <tr>\n",
       "      <th>19994</th>\n",
       "      <td>WALLMANTRA LARGE VINYL STICKERS STICKER</td>\n",
       "      <td>STIE9F5URNQGJCGH</td>\n",
       "      <td>1415</td>\n",
       "      <td>1424</td>\n",
       "      <td>Buy Wallmantra Large Vinyl Stickers Sticker fo...</td>\n",
       "      <td>Wallmantra</td>\n",
       "      <td>Personal_and_baby_care</td>\n",
       "      <td>Wallmantra Large Vinyl Stickers Sticker</td>\n",
       "      <td>1429.0</td>\n",
       "      <td>1143.0</td>\n",
       "      <td>Wallmantra</td>\n",
       "    </tr>\n",
       "    <tr>\n",
       "      <th>19995</th>\n",
       "      <td>ELITE COLLECTION MEDIUM ACRYLIC STICKER</td>\n",
       "      <td>STIE7VAYDKQZEBSD</td>\n",
       "      <td>1284</td>\n",
       "      <td>1196</td>\n",
       "      <td>Buy Elite Collection Medium Acrylic Sticker fo...</td>\n",
       "      <td>Elite Collection</td>\n",
       "      <td>Personal_and_baby_care</td>\n",
       "      <td>Elite Collection Medium Acrylic Sticker</td>\n",
       "      <td>1299.0</td>\n",
       "      <td>999.0</td>\n",
       "      <td>Elite Collection</td>\n",
       "    </tr>\n",
       "    <tr>\n",
       "      <th>19996</th>\n",
       "      <td>ELITE COLLECTION MEDIUM ACRYLIC STICKER</td>\n",
       "      <td>STIE8YSVEPPCZ42Y</td>\n",
       "      <td>1492</td>\n",
       "      <td>1364</td>\n",
       "      <td>Buy Elite Collection Medium Acrylic Sticker fo...</td>\n",
       "      <td>Elite Collection</td>\n",
       "      <td>Personal_and_baby_care</td>\n",
       "      <td>Elite Collection Medium Acrylic Sticker</td>\n",
       "      <td>1499.0</td>\n",
       "      <td>1199.0</td>\n",
       "      <td>Elite Collection</td>\n",
       "    </tr>\n",
       "    <tr>\n",
       "      <th>19997</th>\n",
       "      <td>ELITE COLLECTION MEDIUM ACRYLIC STICKER</td>\n",
       "      <td>STIE88KN9ZDSGZKY</td>\n",
       "      <td>1484</td>\n",
       "      <td>1247</td>\n",
       "      <td>Buy Elite Collection Medium Acrylic Sticker fo...</td>\n",
       "      <td>Elite Collection</td>\n",
       "      <td>Personal_and_baby_care</td>\n",
       "      <td>Elite Collection Medium Acrylic Sticker</td>\n",
       "      <td>1499.0</td>\n",
       "      <td>999.0</td>\n",
       "      <td>Elite Collection</td>\n",
       "    </tr>\n",
       "  </tbody>\n",
       "</table>\n",
       "<p>19998 rows × 11 columns</p>\n",
       "</div>"
      ],
      "text/plain": [
       "                        product_name in Amazon               pid  \\\n",
       "0          Alisha Solid Women's Cycling Shorts  SRTEH2FF9KEDEFGF   \n",
       "1          FabHomeDecor Fabric Double Sofa Bed  SBEEH3QGU7MFYJFY   \n",
       "2                                   AW Bellies  SHOEH4GRSUBJGZXE   \n",
       "3          Alisha Solid Women's Cycling Shorts  SRTEH2F6HUZMQ6SJ   \n",
       "4        Sicons All Purpose Arnica Dog Shampoo  PSOEH3ZYDMSYARJ5   \n",
       "...                                        ...               ...   \n",
       "19993           WALLDESIGN SMALL VINYL STICKER  STIE7KFJAKSTDY9G   \n",
       "19994  WALLMANTRA LARGE VINYL STICKERS STICKER  STIE9F5URNQGJCGH   \n",
       "19995  ELITE COLLECTION MEDIUM ACRYLIC STICKER  STIE7VAYDKQZEBSD   \n",
       "19996  ELITE COLLECTION MEDIUM ACRYLIC STICKER  STIE8YSVEPPCZ42Y   \n",
       "19997  ELITE COLLECTION MEDIUM ACRYLIC STICKER  STIE88KN9ZDSGZKY   \n",
       "\n",
       "       retail_price in Amazon  discounted_price in Amazon  \\\n",
       "0                         982                         438   \n",
       "1                       32143                       29121   \n",
       "2                         991                         551   \n",
       "3                         694                         325   \n",
       "4                         208                         258   \n",
       "...                       ...                         ...   \n",
       "19993                    1498                         876   \n",
       "19994                    1415                        1424   \n",
       "19995                    1284                        1196   \n",
       "19996                    1492                        1364   \n",
       "19997                    1484                        1247   \n",
       "\n",
       "                                             description   brand in Amazon  \\\n",
       "0      Key Features of Alisha Solid Women's Cycling S...            Alisha   \n",
       "1      FabHomeDecor Fabric Double Sofa Bed (Finish Co...      FabHomeDecor   \n",
       "2      Key Features of AW Bellies Sandals Wedges Heel...                AW   \n",
       "3      Key Features of Alisha Solid Women's Cycling S...            Alisha   \n",
       "4      Specifications of Sicons All Purpose Arnica Do...            Sicons   \n",
       "...                                                  ...               ...   \n",
       "19993  Buy WallDesign Small Vinyl Sticker for Rs.730 ...        WallDesign   \n",
       "19994  Buy Wallmantra Large Vinyl Stickers Sticker fo...        Wallmantra   \n",
       "19995  Buy Elite Collection Medium Acrylic Sticker fo...  Elite Collection   \n",
       "19996  Buy Elite Collection Medium Acrylic Sticker fo...  Elite Collection   \n",
       "19997  Buy Elite Collection Medium Acrylic Sticker fo...  Elite Collection   \n",
       "\n",
       "                     category                 product_name in Flipkart  \\\n",
       "0                    Clothing      Alisha Solid Women's Cycling Shorts   \n",
       "1                   Household      FabHomeDecor Fabric Double Sofa Bed   \n",
       "2                    Footwear                               AW Bellies   \n",
       "3                    Clothing      Alisha Solid Women's Cycling Shorts   \n",
       "4                       Other    Sicons All Purpose Arnica Dog Shampoo   \n",
       "...                       ...                                      ...   \n",
       "19993  Personal_and_baby_care           WallDesign Small Vinyl Sticker   \n",
       "19994  Personal_and_baby_care  Wallmantra Large Vinyl Stickers Sticker   \n",
       "19995  Personal_and_baby_care  Elite Collection Medium Acrylic Sticker   \n",
       "19996  Personal_and_baby_care  Elite Collection Medium Acrylic Sticker   \n",
       "19997  Personal_and_baby_care  Elite Collection Medium Acrylic Sticker   \n",
       "\n",
       "       retail_price in Flipkart  discounted_price in Flipkart  \\\n",
       "0                         999.0                         379.0   \n",
       "1                       32157.0                       22646.0   \n",
       "2                         999.0                         499.0   \n",
       "3                         699.0                         267.0   \n",
       "4                         220.0                         210.0   \n",
       "...                         ...                           ...   \n",
       "19993                    1500.0                         730.0   \n",
       "19994                    1429.0                        1143.0   \n",
       "19995                    1299.0                         999.0   \n",
       "19996                    1499.0                        1199.0   \n",
       "19997                    1499.0                         999.0   \n",
       "\n",
       "      brand in Flipkart  \n",
       "0                Alisha  \n",
       "1          FabHomeDecor  \n",
       "2                    AW  \n",
       "3                Alisha  \n",
       "4                Sicons  \n",
       "...                 ...  \n",
       "19993        WallDesign  \n",
       "19994        Wallmantra  \n",
       "19995  Elite Collection  \n",
       "19996  Elite Collection  \n",
       "19997  Elite Collection  \n",
       "\n",
       "[19998 rows x 11 columns]"
      ]
     },
     "execution_count": 243,
     "metadata": {},
     "output_type": "execute_result"
    }
   ],
   "source": [
    "final_df"
   ]
  },
  {
   "cell_type": "code",
   "execution_count": 244,
   "id": "8e6fcd89",
   "metadata": {},
   "outputs": [
    {
     "data": {
      "text/plain": [
       "Index(['product_name in Amazon', 'pid', 'retail_price in Amazon',\n",
       "       'discounted_price in Amazon', 'description', 'brand in Amazon',\n",
       "       'category', 'product_name in Flipkart', 'retail_price in Flipkart',\n",
       "       'discounted_price in Flipkart', 'brand in Flipkart'],\n",
       "      dtype='object')"
      ]
     },
     "execution_count": 244,
     "metadata": {},
     "output_type": "execute_result"
    }
   ],
   "source": [
    "final_df.columns"
   ]
  },
  {
   "cell_type": "code",
   "execution_count": null,
   "id": "1e951bc1",
   "metadata": {},
   "outputs": [],
   "source": []
  }
 ],
 "metadata": {
  "kernelspec": {
   "display_name": "Python 3 (ipykernel)",
   "language": "python",
   "name": "python3"
  },
  "language_info": {
   "codemirror_mode": {
    "name": "ipython",
    "version": 3
   },
   "file_extension": ".py",
   "mimetype": "text/x-python",
   "name": "python",
   "nbconvert_exporter": "python",
   "pygments_lexer": "ipython3",
   "version": "3.9.7"
  }
 },
 "nbformat": 4,
 "nbformat_minor": 5
}
